{
  "nbformat": 4,
  "nbformat_minor": 0,
  "metadata": {
    "colab": {
      "name": "session01.ipynb",
      "version": "0.3.2",
      "provenance": [],
      "collapsed_sections": [],
      "toc_visible": true
    },
    "kernelspec": {
      "name": "python3",
      "display_name": "Python 3"
    }
  },
  "cells": [
    {
      "cell_type": "markdown",
      "metadata": {
        "id": "RvxVLwAvJaoM",
        "colab_type": "text"
      },
      "source": [
        "\n",
        "# **Introduction to Competitive Programming**\n",
        "---\n",
        "\n",
        "Date and Time: 8th July 2019 Monday 5-7pm\n",
        "\n",
        "Venue: Matthews Bldg RM232\n",
        "\n",
        "Handlers: Payton Yao (Canva), Kathrina Ondap (Google)\n",
        "\n",
        "Coordinator: Luke Sy\n",
        "\n",
        "Repository: https://github.com/ieeeunswsb/cpworkshop\n"
      ]
    },
    {
      "cell_type": "code",
      "metadata": {
        "id": "XGMtnQ506mbU",
        "colab_type": "code",
        "outputId": "1d208d9b-d529-48a8-d29f-ba5a254b9732",
        "colab": {
          "base_uri": "https://localhost:8080/",
          "height": 52
        }
      },
      "source": [
        "print(\"Welcome to IEEE UNSW student branch's introduction to competitive programming!\")\n",
        "print(\"We'll be having Payton and Kathy (and to some extent Luke) to guide us through this workshop!\")"
      ],
      "execution_count": 0,
      "outputs": [
        {
          "output_type": "stream",
          "text": [
            "Welcome to IEEE UNSW student branch's introduction to competitive programming!\n",
            "We'll be having Payton and Kathy (and to some extent Luke) to guide us through this workshop!\n"
          ],
          "name": "stdout"
        }
      ]
    },
    {
      "cell_type": "code",
      "metadata": {
        "id": "QybKvHOu_t4X",
        "colab_type": "code",
        "colab": {
          "base_uri": "https://localhost:8080/",
          "height": 228
        },
        "outputId": "799d8991-4e14-4fb0-cf7b-885ed81c23d7"
      },
      "source": [
        "from urllib.request import urlretrieve\n",
        "import os\n",
        "\n",
        "def download(url, file):\n",
        "    if not os.path.isfile(file):\n",
        "        print(\"Download file... \" + file + \" ...\")\n",
        "        urlretrieve(url,file)\n",
        "        print(\"File downloaded\")\n",
        "        \n",
        "Repo = 'https://raw.githubusercontent.com/ieeeunswsb/cpworkshop/master/'\n",
        "Files = ['sample_data/s01-foregone.txt',\n",
        "         'sample_data/s01-maxpathsum1.txt',\n",
        "         'sample_data/s01-maxpathsum2.txt',\n",
        "         'sample_data/s01-gorosort.txt',\n",
        "         'sample_data/s01-mutual-friend-zone.txt',\n",
        "         'sample_data/s01-cryptopangrams.txt']\n",
        "\n",
        "for i in Files:\n",
        "  download(Repo+i, i)"
      ],
      "execution_count": 9,
      "outputs": [
        {
          "output_type": "stream",
          "text": [
            "Download file... sample_data/s01-foregone.txt ...\n",
            "File downloaded\n",
            "Download file... sample_data/s01-maxpathsum1.txt ...\n",
            "File downloaded\n",
            "Download file... sample_data/s01-maxpathsum2.txt ...\n",
            "File downloaded\n",
            "Download file... sample_data/s01-gorosort.txt ...\n",
            "File downloaded\n",
            "Download file... sample_data/s01-mutual-friend-zone.txt ...\n",
            "File downloaded\n",
            "Download file... sample_data/s01-cryptopangrams.txt ...\n",
            "File downloaded\n"
          ],
          "name": "stdout"
        }
      ]
    },
    {
      "cell_type": "markdown",
      "metadata": {
        "id": "N6EEflwHJ5aP",
        "colab_type": "text"
      },
      "source": [
        "## Problem 01: Foregone Solution (GCJ2019 Qualification)\n",
        "Link: https://codingcompetitions.withgoogle.com/codejam/round/0000000000051705/0000000000088231?fbclid=IwAR2hq-J3PzLTiDXzKInwkT8CdnhJZjpdAnWH70qcojFxugkDm4HlguJRtQs"
      ]
    },
    {
      "cell_type": "code",
      "metadata": {
        "id": "MGriunksKbMY",
        "colab_type": "code",
        "outputId": "441b09bf-a2a5-40ea-a28c-6022a25aa3c1",
        "colab": {
          "base_uri": "https://localhost:8080/",
          "height": 34
        }
      },
      "source": [
        "import sys\n",
        "\n",
        "# comment the first line (read file) and uncomment the 2nd line (read stdin) \n",
        "# when submitting your answer\n",
        "with open('sample_data/s01-foregone.txt', 'r') as f:\n",
        "# with sys.stdin as f:\n",
        "  T = int(f.readline())\n",
        "  \n",
        "  # put your code here\n",
        "  print(\"Answer\")"
      ],
      "execution_count": 10,
      "outputs": [
        {
          "output_type": "stream",
          "text": [
            "Answer\n"
          ],
          "name": "stdout"
        }
      ]
    },
    {
      "cell_type": "markdown",
      "metadata": {
        "id": "A12OhcpAJ50X",
        "colab_type": "text"
      },
      "source": [
        "## Problem 02: Max Sum Path I and II (Project Euler 18 and 67)\n",
        "Link1: https://projecteuler.net/problem=18\n",
        "\n",
        "Link2: https://projecteuler.net/problem=67"
      ]
    },
    {
      "cell_type": "code",
      "metadata": {
        "id": "B8MPy67uKb-X",
        "colab_type": "code",
        "outputId": "e5b1a1c5-75e5-4523-d4b1-7f58475bbaa0",
        "colab": {
          "base_uri": "https://localhost:8080/",
          "height": 34
        }
      },
      "source": [
        "import sys\n",
        "\n",
        "\n",
        "with open('sample_data/s01-maxpathsum2.txt', 'r') as f: \n",
        "  # N = 15 # max sum path I\n",
        "  N = 100 # max sum path II\n",
        "  \n",
        "  # put your code here\n",
        "  print(\"Answer\")"
      ],
      "execution_count": 0,
      "outputs": [
        {
          "output_type": "stream",
          "text": [
            "Answer\n"
          ],
          "name": "stdout"
        }
      ]
    },
    {
      "cell_type": "markdown",
      "metadata": {
        "id": "8BydYFkKJ58-",
        "colab_type": "text"
      },
      "source": [
        "## Problem 03: Gorosort (GCJ 2011 Qualification)\n",
        "Link: https://code.google.com/codejam/contest/dashboard?c=975485&fbclid=IwAR1nckjG1Wpmddyb0xb1tUaeLi9hnOgVq-uY-J9P4dL-Cg9QlUUZxEmV5S0#s=p3"
      ]
    },
    {
      "cell_type": "code",
      "metadata": {
        "id": "W3GaMVQvKcgP",
        "colab_type": "code",
        "outputId": "52795e46-299a-4519-9dcb-bbfccf9d0e76",
        "colab": {
          "base_uri": "https://localhost:8080/",
          "height": 34
        }
      },
      "source": [
        "import sys\n",
        "\n",
        "# comment the first line (read file) and uncomment the 2nd line (read stdin) \n",
        "# when submitting your answer\n",
        "with open('sample_data/s01-gorosort.txt', 'r') as f:\n",
        "  # with sys.stdin as f:\n",
        "  T = int(f.readline())\n",
        "  \n",
        "  # put your code here\n",
        "  print(\"Answer\")\n"
      ],
      "execution_count": 0,
      "outputs": [
        {
          "output_type": "stream",
          "text": [
            "Answer\n"
          ],
          "name": "stdout"
        }
      ]
    },
    {
      "cell_type": "markdown",
      "metadata": {
        "id": "pP_DESGhJ6JZ",
        "colab_type": "text"
      },
      "source": [
        "## Problem 04: Mutual Friend Zone\n",
        "Link: https://www.hackerrank.com/contests/noi-ph-practice-page/challenges/mutual-friendzone-not-hacked?fbclid=IwAR0Q8J0CzHcDeAfGpENaQZBjOsMvpLwbiFlT5jCajKImhqxsBkV4uH-qxQ0"
      ]
    },
    {
      "cell_type": "code",
      "metadata": {
        "id": "451VzCxVKdA4",
        "colab_type": "code",
        "outputId": "6c04b428-6e2c-49f3-ccc2-ffa69739dbef",
        "colab": {
          "base_uri": "https://localhost:8080/",
          "height": 52
        }
      },
      "source": [
        "import sys\n",
        "\n",
        "with open('sample_data/s01-mutual-friend-zone.txt') as f:\n",
        "# with sys.stdin as f:\n",
        "  T = int(f.readline())\n",
        "  print(T)\n",
        "    \n",
        "  # put your code here\n",
        "  print(\"Answer\")"
      ],
      "execution_count": 0,
      "outputs": [
        {
          "output_type": "stream",
          "text": [
            "2\n",
            "Answer\n"
          ],
          "name": "stdout"
        }
      ]
    },
    {
      "cell_type": "markdown",
      "metadata": {
        "id": "SjuggP3OJ6f2",
        "colab_type": "text"
      },
      "source": [
        "## (EXTRA) Problem 05: Cryptopangrams\n",
        "In case you find problem 1-4 TOO easy\n",
        "Link: https://codingcompetitions.withgoogle.com/codejam/round/0000000000051705/000000000008830b?fbclid=IwAR3dyzboFg7sMafZ5uvGulwGLL7ow00_zr9l3z9jQcDickWXkzi_8v66wyE"
      ]
    },
    {
      "cell_type": "code",
      "metadata": {
        "id": "sKFIGvxVKdcY",
        "colab_type": "code",
        "outputId": "897a3909-6030-4453-d61a-8cda7a3bf94c",
        "colab": {
          "base_uri": "https://localhost:8080/",
          "height": 34
        }
      },
      "source": [
        "import sys\n",
        "from math import gcd\n",
        "\n",
        "with open('sample_data/s01-cryptopangrams.txt') as f:\n",
        "# with sys.stdin as f:\n",
        "  T = int(f.readline())\n",
        "  \n",
        "  # put your code here\n",
        "  print(\"Answer\")"
      ],
      "execution_count": 0,
      "outputs": [
        {
          "output_type": "stream",
          "text": [
            "Answer\n"
          ],
          "name": "stdout"
        }
      ]
    },
    {
      "cell_type": "markdown",
      "metadata": {
        "colab_type": "text",
        "id": "ao0vXahySj7k"
      },
      "source": [
        "In case you find problem 1-5 TOO easy, call the attention of Payton or Luke in the workshop. "
      ]
    },
    {
      "cell_type": "code",
      "metadata": {
        "id": "wCyUDTHqS23p",
        "colab_type": "code",
        "colab": {}
      },
      "source": [
        ""
      ],
      "execution_count": 0,
      "outputs": []
    }
  ]
}